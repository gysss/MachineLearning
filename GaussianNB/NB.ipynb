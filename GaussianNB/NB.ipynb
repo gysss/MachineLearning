{
 "cells": [
  {
   "cell_type": "markdown",
   "metadata": {},
   "source": [
    "# 朴素贝叶斯\n",
    "* 高斯模型\n",
    "* 多项式模型\n",
    "* 伯努利模型"
   ]
  },
  {
   "cell_type": "markdown",
   "metadata": {},
   "source": [
    "### 高斯模型\n",
    "- 每个特征的可能性被假设为服从高斯分布\n",
    "- 概率密度函数为：$$P(x_i | y_k)=\\frac{1}{\\sqrt{2\\pi\\sigma^2_{yk}}}exp(-\\frac{(x_i-\\mu_{yk})^2}{2\\sigma^2_{yk}})$$"
   ]
  },
  {
   "cell_type": "markdown",
   "metadata": {},
   "source": [
    "### 1、不用sklearn来实现"
   ]
  },
  {
   "cell_type": "code",
   "execution_count": 3,
   "metadata": {},
   "outputs": [],
   "source": [
    "import csv\n",
    "import random\n",
    "import math"
   ]
  },
  {
   "cell_type": "markdown",
   "metadata": {},
   "source": [
    "* 数据集为 wine.data.csv, 在该数据集中，每一行为一条数据，共178行，每一行的第一个数为类别，后面13项为特征值"
   ]
  },
  {
   "cell_type": "code",
   "execution_count": 9,
   "metadata": {},
   "outputs": [],
   "source": [
    "# 类别的下标为0\n",
    "class_index = 0\n",
    "filename = \"wine.data.csv\""
   ]
  },
  {
   "cell_type": "code",
   "execution_count": 10,
   "metadata": {},
   "outputs": [],
   "source": [
    "# 加载数据集\n",
    "def load_csv(filename):\n",
    "    lines = csv.reader(open(filename, 'r'))\n",
    "    dataset = list(lines)\n",
    "    for i in range(len(dataset)):\n",
    "        dataset[i] = [float(x) for x in dataset[i]]\n",
    "    return dataset"
   ]
  },
  {
   "cell_type": "code",
   "execution_count": 17,
   "metadata": {},
   "outputs": [
    {
     "name": "stdout",
     "output_type": "stream",
     "text": [
      "数据个数为：178\n",
      "每条数据长度为：14\n",
      "第一条数据的类别为：1.0\n"
     ]
    }
   ],
   "source": [
    "dataset = load_csv(filename)\n",
    "print(\"数据个数为：{}\".format(len(dataset)))\n",
    "print(\"每条数据长度为：{}\".format(len(dataset[0])))\n",
    "print(\"第一条数据的类别为：{}\".format(dataset[0][0]))\n",
    "# 数据类别包括1，2，3"
   ]
  },
  {
   "cell_type": "code",
   "execution_count": 8,
   "metadata": {},
   "outputs": [],
   "source": [
    "# 划分训练集和预测集， spiltRatio为一个比例值， 如0.67代表的是数据集的67%作为训练集，其余作为测试集\n",
    "def split_dataset(dataset, spiltRatio):\n",
    "    trainSize = int(len(dataset) * spiltRatio)\n",
    "    trainSet = []\n",
    "    copy = list(dataset)\n",
    "    while len(trainSet) < trainSize:\n",
    "        index = random.randrange(len(copy))\n",
    "        trainSet.append(copy.pop(index))\n",
    "    return [trainSet, copy]"
   ]
  },
  {
   "cell_type": "code",
   "execution_count": 21,
   "metadata": {},
   "outputs": [
    {
     "name": "stdout",
     "output_type": "stream",
     "text": [
      "训练集的长度为：119\n",
      "测试集的长度为：59\n"
     ]
    }
   ],
   "source": [
    "spiltRadio = 0.67\n",
    "trainSet, testSet = split_dataset(dataset, spiltRadio)\n",
    "print(\"训练集的长度为：{}\".format(len(trainSet)))\n",
    "print(\"测试集的长度为：{}\".format(len(testSet)))"
   ]
  },
  {
   "cell_type": "code",
   "execution_count": 22,
   "metadata": {},
   "outputs": [],
   "source": [
    "# 按类划分数据, 建立一个字典来保存类的信息\n",
    "def sepreateByClass(dataset):\n",
    "    sepreated = {}\n",
    "    for i in range(len(dataset)):\n",
    "        vector = dataset[i]\n",
    "        if(vector[class_index] not in sepreated):\n",
    "            sepreated[vector[class_index]] = []\n",
    "        sepreated[vector[class_index]].append(vector)\n",
    "    return sepreated"
   ]
  },
  {
   "cell_type": "code",
   "execution_count": 24,
   "metadata": {},
   "outputs": [
    {
     "name": "stdout",
     "output_type": "stream",
     "text": [
      "训练集的类别数为：3\n"
     ]
    }
   ],
   "source": [
    "se = sepreateByClass(trainSet)\n",
    "print(\"训练集的类别数为：{}\".format(len(se)))"
   ]
  },
  {
   "cell_type": "code",
   "execution_count": 25,
   "metadata": {},
   "outputs": [],
   "source": [
    "# 计算均值和标准差\n",
    "def mean(numbers):\n",
    "    return sum(numbers)/float(len(numbers))\n",
    "\n",
    "def stdev(numbers):\n",
    "    avg = mean(numbers)\n",
    "    var = sum([pow(x-avg, 2) for x in numbers])/float(len(numbers)-1)\n",
    "    return math.sqrt(var)"
   ]
  },
  {
   "cell_type": "code",
   "execution_count": 26,
   "metadata": {},
   "outputs": [],
   "source": [
    "# 提取数据集的特征，即计算每个类别下，每个特征分布对应的均值和方差,其输出格式为：\n",
    "# {1:[(mean1, stdev1), (mean2, stedev2)], 2:[(mean1, stdev1), (mean2, stdev2)]}\n",
    "def summarize(dataset):\n",
    "    summaries =[(mean(attribute), stdev(attribute)) for attribute in zip(*dataset)]\n",
    "    del summaries[class_index]\n",
    "    return summaries\n",
    "\n",
    "def summarizeByClass(dataset):\n",
    "    sepreated= sepreateByClass(dataset)\n",
    "    sumarizes = {}\n",
    "    for classValue, instance in sepreated.items():\n",
    "        sumarizes[classValue] = summarize(instance)\n",
    "    return sumarizes"
   ]
  },
  {
   "cell_type": "code",
   "execution_count": 27,
   "metadata": {},
   "outputs": [
    {
     "name": "stdout",
     "output_type": "stream",
     "text": [
      "summaries:[(13.737105263157895, 0.46833753071289624), (1.9747368421052627, 0.6523998808644286), (2.436578947368421, 0.22578722722342026), (17.26842105263158, 2.434116218233865), (105.84210526315789, 10.898862613084471), (2.8357894736842097, 0.33925699083754773), (2.998684210526316, 0.36412925424635767), (0.29236842105263156, 0.07492101103653662), (1.933684210526316, 0.4107305360664921), (5.6605263157894745, 1.1563174243153342), (1.051052631578947, 0.1134183710197758), (3.1352631578947374, 0.347895113442724), (1130.921052631579, 195.92764543961292)]\n"
     ]
    }
   ],
   "source": [
    "summaries = summarizeByClass(trainSet)\n",
    "print(\"summaries:{}\".format(summaries[1]))"
   ]
  },
  {
   "cell_type": "code",
   "execution_count": 28,
   "metadata": {},
   "outputs": [],
   "source": [
    "# 计算高斯概率密度函数，由公式可得\n",
    "def calculateProbability(x, mean, stdev):\n",
    "    exponent = math.exp(-(math.pow(x - mean, 2))/(2 * math.pow(stdev, 2)))\n",
    "    return (1/(math.sqrt(2 * math.pi) * stdev)) * exponent\n",
    "\n",
    "# 计算所属类的概率，这里的inputVector是测试集的一条数据，所以依然是第一个数字为类别，后面为特征值\n",
    "# 输出的结果是这条数据属于每个类别的概率值\n",
    "def calculateClassProbabilities(summaries, inputVector):\n",
    "    probabilities = {}\n",
    "    for classValue, classSummaries in summaries.items():\n",
    "        probabilities[classValue] = 1 \n",
    "        for i in range(len(classSummaries)):\n",
    "            mean, stdev = classSummaries[i]\n",
    "            x = inputVector[i+1] # inputvector[0]为标签值，从1开始才是特征值\n",
    "            probabilities[classValue] *= calculateProbability(x, mean, stdev)\n",
    "    return probabilities"
   ]
  },
  {
   "cell_type": "code",
   "execution_count": 29,
   "metadata": {},
   "outputs": [
    {
     "name": "stdout",
     "output_type": "stream",
     "text": [
      "{1.0: 5.6021186514362725e-08, 2.0: 3.4710043955901537e-13, 3.0: 1.7194108149444513e-35}\n"
     ]
    }
   ],
   "source": [
    "inputvector = testSet[0]\n",
    "result = calculateClassProbabilities(summaries, inputvector)\n",
    "print(result)"
   ]
  },
  {
   "cell_type": "code",
   "execution_count": 30,
   "metadata": {},
   "outputs": [],
   "source": [
    "# 单一预测，返回最大概率的类\n",
    "def predict(summaries, inputVector):\n",
    "    probabilities = calculateClassProbabilities(summaries, inputVector)\n",
    "    bestLabel, bestProb = None, -1\n",
    "    for classValue, probility in probabilities.items():\n",
    "        if bestLabel is None or probility > bestProb:\n",
    "            bestLabel = classValue\n",
    "            bestProb = probility\n",
    "    return bestLabel\n",
    "\n",
    "# 多重预测，对每个样本进行预测\n",
    "def getPredictions(summaries, testSet):\n",
    "    predictions = []\n",
    "    for i in range(len(testSet)):\n",
    "        result = predict(summaries, testSet[i])\n",
    "        predictions.append(result)\n",
    "    return predictions"
   ]
  },
  {
   "cell_type": "code",
   "execution_count": 31,
   "metadata": {},
   "outputs": [
    {
     "name": "stdout",
     "output_type": "stream",
     "text": [
      "1.0\n"
     ]
    }
   ],
   "source": [
    "predictions = getPredictions(summaries, testSet)\n",
    "print(predictions[0])"
   ]
  },
  {
   "cell_type": "code",
   "execution_count": 32,
   "metadata": {},
   "outputs": [],
   "source": [
    "# 最后，返回预测的精度，即预测结果与标签值相同的，correct+1\n",
    "def getAccuracy(testSet, predictions):\n",
    "    correct = 0\n",
    "    for i in range(len(testSet)):\n",
    "        if testSet[i][class_index] == predictions[i]:\n",
    "            correct += 1\n",
    "    return (correct / float(len(testSet))) * 100.0"
   ]
  },
  {
   "cell_type": "code",
   "execution_count": 33,
   "metadata": {},
   "outputs": [
    {
     "name": "stdout",
     "output_type": "stream",
     "text": [
      "Accuracy:100.0\n"
     ]
    }
   ],
   "source": [
    "accuracy = getAccuracy(testSet, predictions)\n",
    "print(\"Accuracy:{}\".format(accuracy))"
   ]
  },
  {
   "cell_type": "markdown",
   "metadata": {},
   "source": [
    "### 2、用sklearn实现"
   ]
  },
  {
   "cell_type": "code",
   "execution_count": 34,
   "metadata": {},
   "outputs": [],
   "source": [
    "from sklearn.naive_bayes import GaussianNB\n",
    "import numpy as np"
   ]
  },
  {
   "cell_type": "code",
   "execution_count": 35,
   "metadata": {},
   "outputs": [],
   "source": [
    "trainSet = np.array(trainSet)\n",
    "testSet = np.array(testSet)\n",
    "\n",
    "trainSet = trainSet.T\n",
    "testSet = testSet.T\n",
    "\n",
    "# 将标签值提取出来\n",
    "labelOftrainSet = trainSet[0]\n",
    "labelOftestSet = testSet[0]\n",
    "trainSet = trainSet[1:].T\n",
    "testSet = testSet[1:].T"
   ]
  },
  {
   "cell_type": "code",
   "execution_count": 36,
   "metadata": {},
   "outputs": [],
   "source": [
    "clf = GaussianNB().fit(trainSet, labelOftrainSet)"
   ]
  },
  {
   "cell_type": "code",
   "execution_count": 37,
   "metadata": {},
   "outputs": [
    {
     "data": {
      "text/plain": [
       "1.0"
      ]
     },
     "execution_count": 37,
     "metadata": {},
     "output_type": "execute_result"
    }
   ],
   "source": [
    "clf.score(testSet, labelOftestSet)"
   ]
  }
 ],
 "metadata": {
  "kernelspec": {
   "display_name": "Python 3",
   "language": "python",
   "name": "python3"
  },
  "language_info": {
   "codemirror_mode": {
    "name": "ipython",
    "version": 3
   },
   "file_extension": ".py",
   "mimetype": "text/x-python",
   "name": "python",
   "nbconvert_exporter": "python",
   "pygments_lexer": "ipython3",
   "version": "3.6.5"
  }
 },
 "nbformat": 4,
 "nbformat_minor": 2
}
